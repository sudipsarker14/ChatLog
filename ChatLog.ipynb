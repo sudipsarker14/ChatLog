{
 "cells": [
  {
   "cell_type": "code",
   "execution_count": 1,
   "id": "8da7b075-8c59-43d8-8a27-c39dc0d8c03d",
   "metadata": {},
   "outputs": [],
   "source": [
    "import re\n",
    "import pandas as pd"
   ]
  },
  {
   "cell_type": "code",
   "execution_count": 2,
   "id": "081021cf-7e93-40a1-b733-5e41284c0b90",
   "metadata": {},
   "outputs": [],
   "source": [
    "f = open('chat.txt','r', encoding='utf-8')"
   ]
  },
  {
   "cell_type": "code",
   "execution_count": 3,
   "id": "911d661f-ba55-447d-a86a-52a8a8daecab",
   "metadata": {},
   "outputs": [],
   "source": [
    "data = f.read()"
   ]
  },
  {
   "cell_type": "code",
   "execution_count": 4,
   "id": "b6a888ae-b85d-4631-afac-51deda106667",
   "metadata": {},
   "outputs": [
    {
     "data": {
      "text/plain": [
       "'User: Hi, can you tell me about Python?,\\nAI: Sure! Python is a popular programming language known for its readability,\\nUser: What can I use it for?,\\nAI: You can use Python for web development, data analysis, AI, and more,'"
      ]
     },
     "execution_count": 4,
     "metadata": {},
     "output_type": "execute_result"
    }
   ],
   "source": [
    "data"
   ]
  },
  {
   "cell_type": "code",
   "execution_count": 5,
   "id": "6dc87b9f-d01f-4c78-968b-e22503dd6697",
   "metadata": {},
   "outputs": [],
   "source": [
    "lines = data.split('\\n')\n",
    "df = pd.DataFrame({'user_message': lines})"
   ]
  },
  {
   "cell_type": "code",
   "execution_count": 6,
   "id": "9abeee3f-c02f-4625-8136-f3f25bd482f9",
   "metadata": {},
   "outputs": [
    {
     "data": {
      "text/html": [
       "<div>\n",
       "<style scoped>\n",
       "    .dataframe tbody tr th:only-of-type {\n",
       "        vertical-align: middle;\n",
       "    }\n",
       "\n",
       "    .dataframe tbody tr th {\n",
       "        vertical-align: top;\n",
       "    }\n",
       "\n",
       "    .dataframe thead th {\n",
       "        text-align: right;\n",
       "    }\n",
       "</style>\n",
       "<table border=\"1\" class=\"dataframe\">\n",
       "  <thead>\n",
       "    <tr style=\"text-align: right;\">\n",
       "      <th></th>\n",
       "      <th>user_message</th>\n",
       "    </tr>\n",
       "  </thead>\n",
       "  <tbody>\n",
       "    <tr>\n",
       "      <th>0</th>\n",
       "      <td>User: Hi, can you tell me about Python?,</td>\n",
       "    </tr>\n",
       "    <tr>\n",
       "      <th>1</th>\n",
       "      <td>AI: Sure! Python is a popular programming lang...</td>\n",
       "    </tr>\n",
       "    <tr>\n",
       "      <th>2</th>\n",
       "      <td>User: What can I use it for?,</td>\n",
       "    </tr>\n",
       "    <tr>\n",
       "      <th>3</th>\n",
       "      <td>AI: You can use Python for web development, da...</td>\n",
       "    </tr>\n",
       "  </tbody>\n",
       "</table>\n",
       "</div>"
      ],
      "text/plain": [
       "                                        user_message\n",
       "0           User: Hi, can you tell me about Python?,\n",
       "1  AI: Sure! Python is a popular programming lang...\n",
       "2                      User: What can I use it for?,\n",
       "3  AI: You can use Python for web development, da..."
      ]
     },
     "execution_count": 6,
     "metadata": {},
     "output_type": "execute_result"
    }
   ],
   "source": [
    "df.head()"
   ]
  },
  {
   "cell_type": "code",
   "execution_count": 7,
   "id": "3b4c55ab-b4eb-4a63-8583-2e23cc35c9a8",
   "metadata": {},
   "outputs": [
    {
     "data": {
      "text/plain": [
       "(4, 1)"
      ]
     },
     "execution_count": 7,
     "metadata": {},
     "output_type": "execute_result"
    }
   ],
   "source": [
    "df.shape"
   ]
  },
  {
   "cell_type": "code",
   "execution_count": 8,
   "id": "675b3843-0d31-4a58-95c8-64179d4156a3",
   "metadata": {},
   "outputs": [
    {
     "data": {
      "text/html": [
       "<div>\n",
       "<style scoped>\n",
       "    .dataframe tbody tr th:only-of-type {\n",
       "        vertical-align: middle;\n",
       "    }\n",
       "\n",
       "    .dataframe tbody tr th {\n",
       "        vertical-align: top;\n",
       "    }\n",
       "\n",
       "    .dataframe thead th {\n",
       "        text-align: right;\n",
       "    }\n",
       "</style>\n",
       "<table border=\"1\" class=\"dataframe\">\n",
       "  <thead>\n",
       "    <tr style=\"text-align: right;\">\n",
       "      <th></th>\n",
       "      <th>user</th>\n",
       "      <th>message</th>\n",
       "    </tr>\n",
       "  </thead>\n",
       "  <tbody>\n",
       "    <tr>\n",
       "      <th>0</th>\n",
       "      <td>User</td>\n",
       "      <td>Hi, can you tell me about Python?,</td>\n",
       "    </tr>\n",
       "    <tr>\n",
       "      <th>1</th>\n",
       "      <td>AI</td>\n",
       "      <td>Sure! Python is a popular programming language...</td>\n",
       "    </tr>\n",
       "    <tr>\n",
       "      <th>2</th>\n",
       "      <td>User</td>\n",
       "      <td>What can I use it for?,</td>\n",
       "    </tr>\n",
       "    <tr>\n",
       "      <th>3</th>\n",
       "      <td>AI</td>\n",
       "      <td>You can use Python for web development, data a...</td>\n",
       "    </tr>\n",
       "  </tbody>\n",
       "</table>\n",
       "</div>"
      ],
      "text/plain": [
       "   user                                            message\n",
       "0  User                 Hi, can you tell me about Python?,\n",
       "1    AI  Sure! Python is a popular programming language...\n",
       "2  User                            What can I use it for?,\n",
       "3    AI  You can use Python for web development, data a..."
      ]
     },
     "execution_count": 8,
     "metadata": {},
     "output_type": "execute_result"
    }
   ],
   "source": [
    "# Split user and message\n",
    "users = []\n",
    "messages = []\n",
    "\n",
    "for message in df['user_message']:\n",
    "    match = re.match(r'^(\\w+):\\s(.+)', message.strip())\n",
    "    if match:\n",
    "        users.append(match.group(1))       \n",
    "        messages.append(match.group(2))    \n",
    "df['user'] = users\n",
    "df['message'] = messages\n",
    "df.drop(columns=['user_message'], inplace=True)\n",
    "\n",
    "df.head()"
   ]
  },
  {
   "cell_type": "code",
   "execution_count": 23,
   "id": "2b61f915-3376-4d24-a78b-777cc3a6f7c0",
   "metadata": {},
   "outputs": [
    {
     "name": "stdout",
     "output_type": "stream",
     "text": [
      "Top keywords after removing stopwords and generic terms:\n",
      "python: 1.6203\n",
      "language: 0.5417\n",
      "programming: 0.5417\n",
      "readability: 0.5417\n",
      "ai: 0.4300\n",
      "['python', 'language', 'programming', 'readability', 'ai']\n"
     ]
    }
   ],
   "source": [
    "from sklearn.feature_extraction.text import TfidfVectorizer\n",
    "from nltk.corpus import stopwords\n",
    "import nltk\n",
    "\n",
    "documents = df['message'].tolist()\n",
    "\n",
    "# Load NLTK English stopwords\n",
    "default_stopwords = set(stopwords.words('english'))\n",
    "\n",
    "# Add custom generic/common words\n",
    "custom_words = {\n",
    "    'hi', 'popular', 'known', 'can', 'use', 'tell', 'sure', 'also', 'get', 'like',\n",
    "    'one', 'many', 'used', 'based', 'etc', 'really', 'know', 'would'\n",
    "}\n",
    "\n",
    "final_stopwords = list(default_stopwords.union(custom_words))\n",
    "\n",
    "# Initialize TF-IDF vectorizer with custom stopwords list\n",
    "vectorizer = TfidfVectorizer(stop_words=final_stopwords)\n",
    "X = vectorizer.fit_transform(documents)\n",
    "\n",
    "# Extract keywords and scores\n",
    "feature_names = vectorizer.get_feature_names_out()\n",
    "scores = X.toarray().sum(axis=0)\n",
    "\n",
    "tfidf_scores = sorted(zip(feature_names, scores), key=lambda x: x[1], reverse=True)\n",
    "top_keywords = [word for word, _ in tfidf_scores[:5]]\n",
    "\n",
    "print(\"Top keywords after removing stopwords and generic terms:\")\n",
    "for word, score in tfidf_scores[:5]:\n",
    "    print(f\"{word}: {score:.4f}\")\n",
    "\n",
    "print(top_keywords)"
   ]
  },
  {
   "cell_type": "code",
   "execution_count": null,
   "id": "3e338396-c109-4ec9-8c7d-cfe821301662",
   "metadata": {},
   "outputs": [],
   "source": []
  }
 ],
 "metadata": {
  "kernelspec": {
   "display_name": "Python 3 (ipykernel)",
   "language": "python",
   "name": "python3"
  },
  "language_info": {
   "codemirror_mode": {
    "name": "ipython",
    "version": 3
   },
   "file_extension": ".py",
   "mimetype": "text/x-python",
   "name": "python",
   "nbconvert_exporter": "python",
   "pygments_lexer": "ipython3",
   "version": "3.12.2"
  }
 },
 "nbformat": 4,
 "nbformat_minor": 5
}
