{
 "cells": [
  {
   "cell_type": "code",
   "execution_count": 1,
   "id": "8da7b075-8c59-43d8-8a27-c39dc0d8c03d",
   "metadata": {},
   "outputs": [],
   "source": [
    "import re\n",
    "import pandas as pd"
   ]
  },
  {
   "cell_type": "code",
   "execution_count": 2,
   "id": "081021cf-7e93-40a1-b733-5e41284c0b90",
   "metadata": {},
   "outputs": [],
   "source": [
    "f = open('chat.txt','r', encoding='utf-8')"
   ]
  },
  {
   "cell_type": "code",
   "execution_count": 3,
   "id": "911d661f-ba55-447d-a86a-52a8a8daecab",
   "metadata": {},
   "outputs": [],
   "source": [
    "data = f.read()"
   ]
  },
  {
   "cell_type": "code",
   "execution_count": 4,
   "id": "b6a888ae-b85d-4631-afac-51deda106667",
   "metadata": {},
   "outputs": [
    {
     "data": {
      "text/plain": [
       "'User: Hi, can you tell me about Python?,\\nAI: Sure! Python is a popular programming language known for its readability,\\nUser: What can I use it for?,\\nAI: You can use Python for web development, data analysis, AI, and more,'"
      ]
     },
     "execution_count": 4,
     "metadata": {},
     "output_type": "execute_result"
    }
   ],
   "source": [
    "data"
   ]
  },
  {
   "cell_type": "code",
   "execution_count": 5,
   "id": "6dc87b9f-d01f-4c78-968b-e22503dd6697",
   "metadata": {},
   "outputs": [],
   "source": [
    "lines = data.split('\\n')\n",
    "df = pd.DataFrame({'user_message': lines})"
   ]
  },
  {
   "cell_type": "code",
   "execution_count": 6,
   "id": "9abeee3f-c02f-4625-8136-f3f25bd482f9",
   "metadata": {},
   "outputs": [
    {
     "data": {
      "text/html": [
       "<div>\n",
       "<style scoped>\n",
       "    .dataframe tbody tr th:only-of-type {\n",
       "        vertical-align: middle;\n",
       "    }\n",
       "\n",
       "    .dataframe tbody tr th {\n",
       "        vertical-align: top;\n",
       "    }\n",
       "\n",
       "    .dataframe thead th {\n",
       "        text-align: right;\n",
       "    }\n",
       "</style>\n",
       "<table border=\"1\" class=\"dataframe\">\n",
       "  <thead>\n",
       "    <tr style=\"text-align: right;\">\n",
       "      <th></th>\n",
       "      <th>user_message</th>\n",
       "    </tr>\n",
       "  </thead>\n",
       "  <tbody>\n",
       "    <tr>\n",
       "      <th>0</th>\n",
       "      <td>User: Hi, can you tell me about Python?,</td>\n",
       "    </tr>\n",
       "    <tr>\n",
       "      <th>1</th>\n",
       "      <td>AI: Sure! Python is a popular programming lang...</td>\n",
       "    </tr>\n",
       "    <tr>\n",
       "      <th>2</th>\n",
       "      <td>User: What can I use it for?,</td>\n",
       "    </tr>\n",
       "    <tr>\n",
       "      <th>3</th>\n",
       "      <td>AI: You can use Python for web development, da...</td>\n",
       "    </tr>\n",
       "  </tbody>\n",
       "</table>\n",
       "</div>"
      ],
      "text/plain": [
       "                                        user_message\n",
       "0           User: Hi, can you tell me about Python?,\n",
       "1  AI: Sure! Python is a popular programming lang...\n",
       "2                      User: What can I use it for?,\n",
       "3  AI: You can use Python for web development, da..."
      ]
     },
     "execution_count": 6,
     "metadata": {},
     "output_type": "execute_result"
    }
   ],
   "source": [
    "df.head()"
   ]
  },
  {
   "cell_type": "code",
   "execution_count": 7,
   "id": "3b4c55ab-b4eb-4a63-8583-2e23cc35c9a8",
   "metadata": {},
   "outputs": [
    {
     "data": {
      "text/plain": [
       "(4, 1)"
      ]
     },
     "execution_count": 7,
     "metadata": {},
     "output_type": "execute_result"
    }
   ],
   "source": [
    "df.shape"
   ]
  },
  {
   "cell_type": "code",
   "execution_count": 8,
   "id": "5e54405d-9676-490b-b66a-0124189f67a8",
   "metadata": {},
   "outputs": [
    {
     "name": "stdout",
     "output_type": "stream",
     "text": [
      "   user                                            message\n",
      "0  User                 Hi, can you tell me about Python?,\n",
      "1    AI  Sure! Python is a popular programming language...\n",
      "2  User                            What can I use it for?,\n",
      "3    AI  You can use Python for web development, data a...\n"
     ]
    }
   ],
   "source": [
    "new_rows = []\n",
    "\n",
    "for row in df['user_message']:\n",
    "    parts = row.split('\\t')\n",
    "    for i, part in enumerate(parts):\n",
    "        part = part.strip()\n",
    "        # Try to extract \"User: message\"\n",
    "        match = re.match(r'^(\\w+):\\s*(.+)', part)\n",
    "        if match:\n",
    "            user = match.group(1)\n",
    "            message = match.group(2)\n",
    "        else:\n",
    "            # If no user prefix, assign default user1/user2\n",
    "            user = f\"user{i+1}\"\n",
    "            message = part\n",
    "        new_rows.append({'user': user, 'message': message})\n",
    "\n",
    "df_cleaned = pd.DataFrame(new_rows)\n",
    "print(df_cleaned.head())"
   ]
  },
  {
   "cell_type": "code",
   "execution_count": 9,
   "id": "2b61f915-3376-4d24-a78b-777cc3a6f7c0",
   "metadata": {},
   "outputs": [
    {
     "name": "stdout",
     "output_type": "stream",
     "text": [
      "Top keywords after removing stopwords and generic terms:\n",
      "python: 1.6203\n",
      "language: 0.5417\n",
      "programming: 0.5417\n",
      "readability: 0.5417\n",
      "ai: 0.4300\n",
      "['python', 'language', 'programming', 'readability', 'ai']\n"
     ]
    }
   ],
   "source": [
    "from sklearn.feature_extraction.text import TfidfVectorizer\n",
    "from nltk.corpus import stopwords\n",
    "import nltk\n",
    "\n",
    "documents = df_cleaned['message'].tolist()\n",
    "\n",
    "# Load NLTK English stopwords\n",
    "default_stopwords = set(stopwords.words('english'))\n",
    "\n",
    "# Add custom generic/common words\n",
    "custom_words = {\n",
    "    'hi', 'popular', 'known', 'can', 'use', 'tell', 'sure', 'also', 'get', 'like',\n",
    "    'one', 'many', 'used', 'based', 'etc', 'really', 'know', 'would'\n",
    "}\n",
    "\n",
    "final_stopwords = list(default_stopwords.union(custom_words))\n",
    "\n",
    "# Initialize TF-IDF vectorizer with custom stopwords list\n",
    "vectorizer = TfidfVectorizer(stop_words=final_stopwords)\n",
    "X = vectorizer.fit_transform(documents)\n",
    "\n",
    "# Extract keywords and scores\n",
    "feature_names = vectorizer.get_feature_names_out()\n",
    "scores = X.toarray().sum(axis=0)\n",
    "\n",
    "tfidf_scores = sorted(zip(feature_names, scores), key=lambda x: x[1], reverse=True)\n",
    "top_keywords = [word for word, _ in tfidf_scores[:5]]\n",
    "\n",
    "print(\"Top keywords after removing stopwords and generic terms:\")\n",
    "for word, score in tfidf_scores[:5]:\n",
    "    print(f\"{word}: {score:.4f}\")\n",
    "\n",
    "print(top_keywords)"
   ]
  },
  {
   "cell_type": "code",
   "execution_count": 10,
   "id": "c42e1af0-4bb4-4d6c-b8b7-b23a739b4b54",
   "metadata": {},
   "outputs": [
    {
     "name": "stdout",
     "output_type": "stream",
     "text": [
      "\n",
      "The user asked mainly about Python, web development, a popular programming language, data analysis, its readability.\n",
      "\n"
     ]
    }
   ],
   "source": [
    "import spacy\n",
    "from collections import Counter\n",
    "\n",
    "nlp = spacy.load(\"en_core_web_sm\")\n",
    "\n",
    "# Combine all messages into a single text block\n",
    "full_text = \" \".join(df_cleaned['message'].tolist())\n",
    "\n",
    "# Process text with spaCy\n",
    "doc = nlp(full_text)\n",
    "noun_chunks = [chunk.text.lower() for chunk in doc.noun_chunks if len(chunk.text.split()) > 1]\n",
    "\n",
    "# Generate keyword list\n",
    "keywords = Counter(noun_chunks).most_common(5)\n",
    "keyword_list = [kw[0] for kw in keywords]\n",
    "\n",
    "# Extract named entities and noun chunks to infer topic\n",
    "entities = [ent.text for ent in doc.ents if ent.label_ in [\"ORG\", \"PERSON\", \"PRODUCT\", \"LANGUAGE\", \"WORK_OF_ART\"]]\n",
    "noun_chunks = [chunk.text.lower() for chunk in doc.noun_chunks if len(chunk.text.split()) > 1]\n",
    "\n",
    "summary = f\"\"\"\n",
    "The user asked mainly about {', '.join(set(entities + keyword_list))}.\n",
    "\"\"\"\n",
    "print(summary)"
   ]
  },
  {
   "cell_type": "code",
   "execution_count": 11,
   "id": "e5a3a45b-e546-4f40-9c64-1b23eec1cb75",
   "metadata": {},
   "outputs": [],
   "source": [
    "total_exchanges = df_cleaned.shape[0]"
   ]
  },
  {
   "cell_type": "code",
   "execution_count": 12,
   "id": "756096b4-65c2-4eaf-90da-e424b1008f93",
   "metadata": {},
   "outputs": [
    {
     "data": {
      "text/plain": [
       "4"
      ]
     },
     "execution_count": 12,
     "metadata": {},
     "output_type": "execute_result"
    }
   ],
   "source": [
    "total_exchanges"
   ]
  },
  {
   "cell_type": "code",
   "execution_count": 13,
   "id": "5b789203-de2c-4114-98de-bff5fd813bcc",
   "metadata": {},
   "outputs": [
    {
     "name": "stdout",
     "output_type": "stream",
     "text": [
      "Summary:\n",
      "- The conversation had 4 exchanges.\n",
      "- The user asked mainly about Python, web development, a popular programming language, data analysis, its readability.\n",
      "- Most common keywords: python, language, programming, readability, ai.\n"
     ]
    }
   ],
   "source": [
    "summary = f\"\"\"\n",
    "Summary:\n",
    "- The conversation had {total_exchanges} exchanges.\n",
    "- The user asked mainly about {', '.join(set(entities + keyword_list))}.\n",
    "- Most common keywords: {', '.join(top_keywords)}.\n",
    "\"\"\"\n",
    "print(summary.strip())"
   ]
  },
  {
   "cell_type": "code",
   "execution_count": null,
   "id": "efe18f61-a284-4b65-bf1d-468309508563",
   "metadata": {},
   "outputs": [],
   "source": []
  }
 ],
 "metadata": {
  "kernelspec": {
   "display_name": "Python 3 (ipykernel)",
   "language": "python",
   "name": "python3"
  },
  "language_info": {
   "codemirror_mode": {
    "name": "ipython",
    "version": 3
   },
   "file_extension": ".py",
   "mimetype": "text/x-python",
   "name": "python",
   "nbconvert_exporter": "python",
   "pygments_lexer": "ipython3",
   "version": "3.12.2"
  }
 },
 "nbformat": 4,
 "nbformat_minor": 5
}
